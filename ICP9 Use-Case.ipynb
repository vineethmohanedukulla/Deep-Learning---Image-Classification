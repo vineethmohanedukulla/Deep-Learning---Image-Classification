{
 "cells": [
  {
   "cell_type": "markdown",
   "metadata": {
    "id": "OfI1eOEvnr2f"
   },
   "source": [
    "**From Menu choose:**\n",
    "---\n",
    "Runtime --> Change runtime type:\n",
    "---\n",
    "change Hardare accelerator to (gpu)"
   ]
  },
  {
   "cell_type": "code",
   "execution_count": 216,
   "metadata": {
    "id": "Ry7NRUf0llQ8"
   },
   "outputs": [],
   "source": [
    "# imported required libraries from tensor flow and keras\n",
    "from keras import Sequential\n",
    "from keras.datasets import mnist\n",
    "import numpy as np\n",
    "from keras.layers import Dense\n",
    "from tensorflow.keras.utils import to_categorical\n",
    "import matplotlib.pyplot as plt"
   ]
  },
  {
   "cell_type": "code",
   "execution_count": 217,
   "metadata": {
    "colab": {
     "base_uri": "https://localhost:8080/"
    },
    "id": "XReLyY3jlr-R",
    "outputId": "7d0e5196-befa-4590-c2ee-0ef1b9bff560"
   },
   "outputs": [],
   "source": [
    "# loaded the minst data\n",
    "(train_images,train_labels),(test_images, test_labels) = mnist.load_data()"
   ]
  },
  {
   "cell_type": "code",
   "execution_count": 218,
   "metadata": {
    "colab": {
     "base_uri": "https://localhost:8080/"
    },
    "id": "RrEOE2a_luF1",
    "outputId": "412925e5-9d96-4bb8-bf3b-0f80dc3c3617"
   },
   "outputs": [
    {
     "name": "stdout",
     "output_type": "stream",
     "text": [
      "<class 'numpy.ndarray'>\n",
      "(60000, 28, 28)\n",
      "(28, 28)\n"
     ]
    }
   ],
   "source": [
    "# printed the shape of the input data\n",
    "print(type(train_images))\n",
    "print(train_images.shape)\n",
    "print(train_images[251].shape)"
   ]
  },
  {
   "cell_type": "code",
   "execution_count": 219,
   "metadata": {
    "colab": {
     "base_uri": "https://localhost:8080/",
     "height": 282
    },
    "id": "TkhbiwyTzwmH",
    "outputId": "f84dc786-6071-4277-f05e-d6b3b9246963"
   },
   "outputs": [
    {
     "data": {
      "text/plain": [
       "<matplotlib.image.AxesImage at 0x1aa8ba47640>"
      ]
     },
     "execution_count": 219,
     "metadata": {},
     "output_type": "execute_result"
    },
    {
     "data": {
      "image/png": "[encoded data removed]",
      "text/plain": [
       "<Figure size 432x288 with 1 Axes>"
      ]
     },
     "metadata": {
      "needs_background": "light"
     },
     "output_type": "display_data"
    }
   ],
   "source": [
    "# displayed the data image\n",
    "plt.imshow(train_images[500])"
   ]
  },
  {
   "cell_type": "markdown",
   "metadata": {
    "id": "oi1noKXWl0E4"
   },
   "source": [
    "##process the data\n",
    "###1. convert each image of shape 28*28 to 784 dimensional which will be fed to the network as a single feature"
   ]
  },
  {
   "cell_type": "code",
   "execution_count": 220,
   "metadata": {
    "colab": {
     "base_uri": "https://localhost:8080/"
    },
    "id": "3KcvF2qFlwhr",
    "outputId": "3fc9ff0d-e69c-4a9d-d75c-136ab6d05385"
   },
   "outputs": [
    {
     "name": "stdout",
     "output_type": "stream",
     "text": [
      "784\n",
      "(60000, 784)\n"
     ]
    }
   ],
   "source": [
    "# calulated the product of the dimensions\n",
    "dimData = np.prod(train_images.shape[1:])\n",
    "print(dimData)\n",
    "# reshaped the two dimensional image to one dimensional\n",
    "train_data = train_images.reshape(train_images.shape[0],dimData)\n",
    "test_data = test_images.reshape(test_images.shape[0],dimData)\n",
    "print(train_data.shape)"
   ]
  },
  {
   "cell_type": "markdown",
   "metadata": {
    "id": "CI3BKhj0l3fd"
   },
   "source": [
    "#convert data to float and scale values between 0 and 1"
   ]
  },
  {
   "cell_type": "code",
   "execution_count": 221,
   "metadata": {
    "colab": {
     "base_uri": "https://localhost:8080/"
    },
    "id": "G_XcNfVfl1jH",
    "outputId": "154db96b-b159-43d6-fe2a-581cb44cd4ca"
   },
   "outputs": [
    {
     "name": "stdout",
     "output_type": "stream",
     "text": [
      "uint8\n",
      "float64\n"
     ]
    }
   ],
   "source": [
    "# printed the current datatype and coverted into the float\n",
    "print(train_data.dtype)\n",
    "train_data = train_data.astype('float')\n",
    "test_data = test_data.astype('float')\n",
    "print(train_data.dtype)"
   ]
  },
  {
   "cell_type": "code",
   "execution_count": 222,
   "metadata": {},
   "outputs": [],
   "source": [
    "# did not scaled the values from 0 to 255 to 0 to 1\n",
    "train_data_nonscaled = train_images.reshape(train_images.shape[0],dimData).astype('float')\n",
    "test_data_nonscaled = test_images.reshape(test_images.shape[0],dimData).astype('float')"
   ]
  },
  {
   "cell_type": "code",
   "execution_count": 223,
   "metadata": {},
   "outputs": [
    {
     "name": "stdout",
     "output_type": "stream",
     "text": [
      "max =  255.0\n",
      "min =  0.0\n"
     ]
    }
   ],
   "source": [
    "# printed max and min in the data of per image\n",
    "print(\"max = \", np.amax(train_data_nonscaled))\n",
    "print(\"min = \", np.amin(test_data_nonscaled))"
   ]
  },
  {
   "cell_type": "markdown",
   "metadata": {
    "id": "ODdo3u8Ql8c8"
   },
   "source": [
    "#scale data"
   ]
  },
  {
   "cell_type": "code",
   "execution_count": 224,
   "metadata": {
    "colab": {
     "base_uri": "https://localhost:8080/"
    },
    "id": "nky9C9FMl7BU",
    "outputId": "aedd5795-1af8-41d8-f65e-12abf8a919d4"
   },
   "outputs": [
    {
     "name": "stdout",
     "output_type": "stream",
     "text": [
      "max =  255.0\n",
      "min =  0.0\n",
      "max =  1.0\n",
      "min =  0.0\n"
     ]
    }
   ],
   "source": [
    "# scaled the data form 0 to 255 to 0 to 1.\n",
    "print(\"max = \", np.amax(train_data))\n",
    "print(\"min = \", np.amin(train_data))\n",
    "train_data /=255.0\n",
    "test_data /=255.0\n",
    "# printed the max and min in scaled data\n",
    "print(\"max = \", np.amax(train_data))\n",
    "print(\"min = \", np.amin(train_data))"
   ]
  },
  {
   "cell_type": "markdown",
   "metadata": {
    "id": "PVc9dRURl_oo"
   },
   "source": [
    "change the labels from integer to one-hot encoding. to_categorical is doing the same thing as LabelEncoder()"
   ]
  },
  {
   "cell_type": "code",
   "execution_count": 225,
   "metadata": {
    "colab": {
     "base_uri": "https://localhost:8080/"
    },
    "id": "6rgJllrWoynZ",
    "outputId": "b99abafc-5094-44e5-85a9-8cf2336e6482"
   },
   "outputs": [
    {
     "name": "stdout",
     "output_type": "stream",
     "text": [
      "[5 0 4 1 9 2 1 3 1 4 3 5 3 6 1 7 2 8 6 9]\n"
     ]
    }
   ],
   "source": [
    "print(train_labels[:20])"
   ]
  },
  {
   "cell_type": "code",
   "execution_count": 226,
   "metadata": {
    "id": "iGTKxNyYl-nE"
   },
   "outputs": [],
   "source": [
    "# converted the categorical values using one-hot encoding\n",
    "train_labels_one_hot = to_categorical(train_labels)\n",
    "\n",
    "test_labels_one_hot = to_categorical(test_labels)"
   ]
  },
  {
   "cell_type": "code",
   "execution_count": 227,
   "metadata": {
    "colab": {
     "base_uri": "https://localhost:8080/"
    },
    "id": "t8ep_1n73_QK",
    "outputId": "6be5c43a-0b34-4d49-9a99-813fa0b943fc"
   },
   "outputs": [
    {
     "name": "stdout",
     "output_type": "stream",
     "text": [
      "7\n",
      "[0. 0. 0. 0. 0. 1. 0. 0. 0. 0.]\n"
     ]
    }
   ],
   "source": [
    "# printed test and train target feature after one hot encoding\n",
    "print(test_labels[0])\n",
    "print(train_labels_one_hot[0])"
   ]
  },
  {
   "cell_type": "markdown",
   "metadata": {
    "id": "1YFoN0z6mEbR"
   },
   "source": [
    "#creating network"
   ]
  },
  {
   "cell_type": "code",
   "execution_count": 228,
   "metadata": {
    "id": "9ui43p57mCgk"
   },
   "outputs": [],
   "source": [
    "# created the empty sequential model\n",
    "model = Sequential()\n",
    "# created a layer with 'relu' activation function to each neuron\n",
    "model.add(Dense(16, activation='relu', input_shape=(dimData,)))\n",
    "# Added a new layer having 32 neurons with 'relu' activation function  to each neuron\n",
    "model.add(Dense(32, activation='relu'))\n",
    "# Added a new layer having 32 neurons with 'soft' activation function to each neuron\n",
    "model.add(Dense(10, activation='softmax'))"
   ]
  },
  {
   "cell_type": "markdown",
   "metadata": {},
   "source": [
    "## Question-1"
   ]
  },
  {
   "cell_type": "code",
   "execution_count": 229,
   "metadata": {},
   "outputs": [],
   "source": [
    "# created the empty sequential model\n",
    "tanhmodel = Sequential()\n",
    "# created a 512 layer with 'tanh' activation function to each neuron\n",
    "tanhmodel.add(Dense(512, activation='tanh', input_shape=(dimData,)))\n",
    "# Added a new layer having 512 neurons with 'tanh' activation function  to each neuron\n",
    "tanhmodel.add(Dense(512, activation='tanh'))\n",
    "# Added a new layer having 512 neurons with 'tanh' activation function  to each neuron\n",
    "tanhmodel.add(Dense(512, activation='tanh'))\n",
    "# Added a new layer having 10 neurons with 'softmax' activation function  to each neuron\n",
    "tanhmodel.add(Dense(10, activation='softmax'))"
   ]
  },
  {
   "cell_type": "code",
   "execution_count": 230,
   "metadata": {
    "colab": {
     "base_uri": "https://localhost:8080/"
    },
    "id": "EIRR22g8x2O6",
    "outputId": "9224bfae-07b1-4808-e941-e404ddabe8a2"
   },
   "outputs": [
    {
     "name": "stdout",
     "output_type": "stream",
     "text": [
      "Model: \"sequential_16\"\n",
      "_________________________________________________________________\n",
      "Layer (type)                 Output Shape              Param #   \n",
      "=================================================================\n",
      "dense_69 (Dense)             (None, 16)                12560     \n",
      "_________________________________________________________________\n",
      "dense_70 (Dense)             (None, 32)                544       \n",
      "_________________________________________________________________\n",
      "dense_71 (Dense)             (None, 10)                330       \n",
      "=================================================================\n",
      "Total params: 13,434\n",
      "Trainable params: 13,434\n",
      "Non-trainable params: 0\n",
      "_________________________________________________________________\n"
     ]
    }
   ],
   "source": [
    "model.summary()"
   ]
  },
  {
   "cell_type": "code",
   "execution_count": 231,
   "metadata": {},
   "outputs": [
    {
     "name": "stdout",
     "output_type": "stream",
     "text": [
      "Model: \"sequential_17\"\n",
      "_________________________________________________________________\n",
      "Layer (type)                 Output Shape              Param #   \n",
      "=================================================================\n",
      "dense_72 (Dense)             (None, 512)               401920    \n",
      "_________________________________________________________________\n",
      "dense_73 (Dense)             (None, 512)               262656    \n",
      "_________________________________________________________________\n",
      "dense_74 (Dense)             (None, 512)               262656    \n",
      "_________________________________________________________________\n",
      "dense_75 (Dense)             (None, 10)                5130      \n",
      "=================================================================\n",
      "Total params: 932,362\n",
      "Trainable params: 932,362\n",
      "Non-trainable params: 0\n",
      "_________________________________________________________________\n"
     ]
    }
   ],
   "source": [
    "tanhmodel.summary()"
   ]
  },
  {
   "cell_type": "markdown",
   "metadata": {
    "id": "538_9WbGmp5a"
   },
   "source": [
    "# Compile model"
   ]
  },
  {
   "cell_type": "code",
   "execution_count": 232,
   "metadata": {
    "id": "ck4tEWPMmG0j"
   },
   "outputs": [],
   "source": [
    "model.compile(optimizer='adam', loss='categorical_crossentropy', metrics=['accuracy'])"
   ]
  },
  {
   "cell_type": "code",
   "execution_count": 233,
   "metadata": {},
   "outputs": [],
   "source": [
    "# compiled the model\n",
    "tanhmodel.compile(optimizer='adam', loss='categorical_crossentropy', metrics=['accuracy'])"
   ]
  },
  {
   "cell_type": "markdown",
   "metadata": {
    "id": "Rs3XmHWgx8LS"
   },
   "source": [
    "# Fit model"
   ]
  },
  {
   "cell_type": "code",
   "execution_count": 234,
   "metadata": {
    "colab": {
     "base_uri": "https://localhost:8080/"
    },
    "id": "rsNP_elemr_i",
    "outputId": "5d61ecf5-615e-44e7-d2f5-4945cba3ac57"
   },
   "outputs": [
    {
     "name": "stdout",
     "output_type": "stream",
     "text": [
      "Epoch 1/10\n",
      "235/235 [==============================] - 0s 925us/step - loss: 0.8092 - accuracy: 0.7737\n",
      "Epoch 2/10\n",
      "235/235 [==============================] - 0s 918us/step - loss: 0.2967 - accuracy: 0.9156\n",
      "Epoch 3/10\n",
      "235/235 [==============================] - 0s 889us/step - loss: 0.2469 - accuracy: 0.9295\n",
      "Epoch 4/10\n",
      "235/235 [==============================] - 0s 946us/step - loss: 0.2200 - accuracy: 0.9367\n",
      "Epoch 5/10\n",
      "235/235 [==============================] - 0s 902us/step - loss: 0.2013 - accuracy: 0.9420\n",
      "Epoch 6/10\n",
      "235/235 [==============================] - 0s 901us/step - loss: 0.1891 - accuracy: 0.9460\n",
      "Epoch 7/10\n",
      "235/235 [==============================] - 0s 920us/step - loss: 0.1775 - accuracy: 0.9486\n",
      "Epoch 8/10\n",
      "235/235 [==============================] - 0s 1ms/step - loss: 0.1679 - accuracy: 0.9512\n",
      "Epoch 9/10\n",
      "235/235 [==============================] - 0s 1ms/step - loss: 0.1598 - accuracy: 0.9539\n",
      "Epoch 10/10\n",
      "235/235 [==============================] - 0s 914us/step - loss: 0.1533 - accuracy: 0.9551\n"
     ]
    }
   ],
   "source": [
    "# fit and evalutaed the model with training and testing data with batch size 256\n",
    "history = model.fit(train_data, train_labels_one_hot, batch_size=256, epochs=10, verbose=1)"
   ]
  },
  {
   "cell_type": "code",
   "execution_count": 235,
   "metadata": {},
   "outputs": [
    {
     "name": "stdout",
     "output_type": "stream",
     "text": [
      "Epoch 1/10\n",
      "235/235 [==============================] - 2s 10ms/step - loss: 0.2968 - accuracy: 0.9099\n",
      "Epoch 2/10\n",
      "235/235 [==============================] - 2s 9ms/step - loss: 0.1331 - accuracy: 0.9588\n",
      "Epoch 3/10\n",
      "235/235 [==============================] - 2s 9ms/step - loss: 0.0908 - accuracy: 0.9712\n",
      "Epoch 4/10\n",
      "235/235 [==============================] - 2s 10ms/step - loss: 0.0635 - accuracy: 0.9804\n",
      "Epoch 5/10\n",
      "235/235 [==============================] - 3s 12ms/step - loss: 0.0480 - accuracy: 0.9850\n",
      "Epoch 6/10\n",
      "235/235 [==============================] - 3s 12ms/step - loss: 0.0343 - accuracy: 0.9893\n",
      "Epoch 7/10\n",
      "235/235 [==============================] - 3s 12ms/step - loss: 0.0261 - accuracy: 0.9912\n",
      "Epoch 8/10\n",
      "235/235 [==============================] - 3s 13ms/step - loss: 0.0211 - accuracy: 0.9934\n",
      "Epoch 9/10\n",
      "235/235 [==============================] - 3s 13ms/step - loss: 0.0147 - accuracy: 0.9956\n",
      "Epoch 10/10\n",
      "235/235 [==============================] - 3s 13ms/step - loss: 0.0115 - accuracy: 0.9968\n"
     ]
    }
   ],
   "source": [
    "# fit and evalutaed the model with training and testing data with batch size 256\n",
    "tanhhistory = tanhmodel.fit(train_data, train_labels_one_hot, batch_size=256, epochs=10, verbose=1)"
   ]
  },
  {
   "cell_type": "markdown",
   "metadata": {},
   "source": [
    "## Report"
   ]
  },
  {
   "cell_type": "code",
   "execution_count": 236,
   "metadata": {
    "colab": {
     "base_uri": "https://localhost:8080/",
     "height": 295
    },
    "id": "8m3IoHX0Co2T",
    "outputId": "90428a5d-ed9b-4a10-b3bf-5906cb5ef0c7"
   },
   "outputs": [
    {
     "data": {
      "image/png": "[encoded data removed]",
      "text/plain": [
       "<Figure size 432x288 with 1 Axes>"
      ]
     },
     "metadata": {
      "needs_background": "light"
     },
     "output_type": "display_data"
    }
   ],
   "source": [
    "# plotted relu model loss\n",
    "plt.plot(history.history['loss'])\n",
    "plt.title('Relu Model Loss')\n",
    "plt.ylabel('Loss')\n",
    "plt.xlabel('Epoch')\n",
    "plt.legend(['Training Loss'], loc='upper right')\n",
    "plt.show()"
   ]
  },
  {
   "cell_type": "code",
   "execution_count": 242,
   "metadata": {},
   "outputs": [
    {
     "data": {
      "image/png": "[encoded data removed]",
      "text/plain": [
       "<Figure size 432x288 with 1 Axes>"
      ]
     },
     "metadata": {
      "needs_background": "light"
     },
     "output_type": "display_data"
    }
   ],
   "source": [
    "# plotted relu model accuracy\n",
    "plt.plot(tanhhistory.history['loss'])\n",
    "plt.title('Tanh Model Loss')\n",
    "plt.ylabel('Accuracy')\n",
    "plt.xlabel('Epoch')\n",
    "plt.legend(['Training Accuracy'], loc='upper left')\n",
    "plt.show()"
   ]
  },
  {
   "cell_type": "code",
   "execution_count": 243,
   "metadata": {
    "colab": {
     "base_uri": "https://localhost:8080/",
     "height": 295
    },
    "id": "ONLcjuv3yeqS",
    "outputId": "68d8545d-33d9-4e69-865d-bd15a01c1b24"
   },
   "outputs": [
    {
     "data": {
      "image/png": "[encoded data removed]",
      "text/plain": [
       "<Figure size 432x288 with 1 Axes>"
      ]
     },
     "metadata": {
      "needs_background": "light"
     },
     "output_type": "display_data"
    }
   ],
   "source": [
    "# plotted relu model accuracy\n",
    "plt.plot(history.history['accuracy'])\n",
    "plt.title('relu Model accuracy')\n",
    "plt.ylabel('Accuracy')\n",
    "plt.xlabel('Epoch')\n",
    "plt.legend(['Training Accuracy'], loc='upper left')\n",
    "plt.show()"
   ]
  },
  {
   "cell_type": "code",
   "execution_count": 244,
   "metadata": {},
   "outputs": [
    {
     "data": {
      "image/png": "[encoded data removed]",
      "text/plain": [
       "<Figure size 432x288 with 1 Axes>"
      ]
     },
     "metadata": {
      "needs_background": "light"
     },
     "output_type": "display_data"
    }
   ],
   "source": [
    "# plotted tanh model accuracy\n",
    "plt.plot(tanhhistory.history['accuracy'])\n",
    "plt.title('Tanh Model accuracy')\n",
    "plt.ylabel('Accuracy')\n",
    "plt.xlabel('Epoch')\n",
    "plt.legend(['Training Accuracy'], loc='upper left')\n",
    "plt.show()"
   ]
  },
  {
   "cell_type": "code",
   "execution_count": 245,
   "metadata": {},
   "outputs": [
    {
     "name": "stdout",
     "output_type": "stream",
     "text": [
      "Epoch 1/10\n",
      "235/235 [==============================] - 0s 1ms/step - loss: 0.1474 - accuracy: 0.9571 - val_loss: 0.1662 - val_accuracy: 0.9515\n",
      "Epoch 2/10\n",
      "235/235 [==============================] - 0s 1ms/step - loss: 0.1420 - accuracy: 0.9584 - val_loss: 0.1653 - val_accuracy: 0.9522\n",
      "Epoch 3/10\n",
      "235/235 [==============================] - 0s 1ms/step - loss: 0.1380 - accuracy: 0.9592 - val_loss: 0.1578 - val_accuracy: 0.9554\n",
      "Epoch 4/10\n",
      "235/235 [==============================] - 0s 1ms/step - loss: 0.1335 - accuracy: 0.9610 - val_loss: 0.1549 - val_accuracy: 0.9543\n",
      "Epoch 5/10\n",
      "235/235 [==============================] - 0s 1ms/step - loss: 0.1296 - accuracy: 0.9628 - val_loss: 0.1541 - val_accuracy: 0.9550\n",
      "Epoch 6/10\n",
      "235/235 [==============================] - 0s 1ms/step - loss: 0.1269 - accuracy: 0.9631 - val_loss: 0.1514 - val_accuracy: 0.9548\n",
      "Epoch 7/10\n",
      "235/235 [==============================] - 0s 1ms/step - loss: 0.1230 - accuracy: 0.9635 - val_loss: 0.1526 - val_accuracy: 0.9557\n",
      "Epoch 8/10\n",
      "235/235 [==============================] - 0s 1ms/step - loss: 0.1200 - accuracy: 0.9642 - val_loss: 0.1531 - val_accuracy: 0.9560\n",
      "Epoch 9/10\n",
      "235/235 [==============================] - 0s 1ms/step - loss: 0.1172 - accuracy: 0.9649 - val_loss: 0.1508 - val_accuracy: 0.9544\n",
      "Epoch 10/10\n",
      "235/235 [==============================] - 0s 1ms/step - loss: 0.1145 - accuracy: 0.9657 - val_loss: 0.1469 - val_accuracy: 0.9564\n"
     ]
    }
   ],
   "source": [
    "# fit and evalutaed the model with training and testing data with batch size 256\n",
    "history = model.fit(train_data, train_labels_one_hot, batch_size=256,epochs=10, verbose=1, shuffle=True, validation_data=(test_data, test_labels_one_hot))"
   ]
  },
  {
   "cell_type": "code",
   "execution_count": 246,
   "metadata": {},
   "outputs": [
    {
     "name": "stdout",
     "output_type": "stream",
     "text": [
      "Epoch 1/10\n",
      "235/235 [==============================] - 2s 11ms/step - loss: 0.0128 - accuracy: 0.9960 - val_loss: 0.0844 - val_accuracy: 0.9749\n",
      "Epoch 2/10\n",
      "235/235 [==============================] - 2s 11ms/step - loss: 0.0117 - accuracy: 0.9962 - val_loss: 0.0816 - val_accuracy: 0.9763\n",
      "Epoch 3/10\n",
      "235/235 [==============================] - 2s 10ms/step - loss: 0.0142 - accuracy: 0.9955 - val_loss: 0.0921 - val_accuracy: 0.9749\n",
      "Epoch 4/10\n",
      "235/235 [==============================] - 2s 10ms/step - loss: 0.0098 - accuracy: 0.9971 - val_loss: 0.0749 - val_accuracy: 0.9789\n",
      "Epoch 5/10\n",
      "235/235 [==============================] - 3s 14ms/step - loss: 0.0084 - accuracy: 0.9973 - val_loss: 0.0965 - val_accuracy: 0.9744\n",
      "Epoch 6/10\n",
      "235/235 [==============================] - 3s 13ms/step - loss: 0.0150 - accuracy: 0.9948 - val_loss: 0.0941 - val_accuracy: 0.9770\n",
      "Epoch 7/10\n",
      "235/235 [==============================] - 3s 13ms/step - loss: 0.0109 - accuracy: 0.9965 - val_loss: 0.0709 - val_accuracy: 0.9807\n",
      "Epoch 8/10\n",
      "235/235 [==============================] - 3s 13ms/step - loss: 0.0028 - accuracy: 0.9993 - val_loss: 0.0740 - val_accuracy: 0.9814\n",
      "Epoch 9/10\n",
      "235/235 [==============================] - 3s 13ms/step - loss: 9.3548e-04 - accuracy: 0.9999 - val_loss: 0.0656 - val_accuracy: 0.9822\n",
      "Epoch 10/10\n",
      "235/235 [==============================] - 3s 13ms/step - loss: 4.5420e-04 - accuracy: 0.9999 - val_loss: 0.0654 - val_accuracy: 0.9831\n"
     ]
    }
   ],
   "source": [
    "# fit and evalutaed the model with training and testing data with batch size 256\n",
    "tanhhistory = tanhmodel.fit(train_data, train_labels_one_hot, batch_size=256,epochs=10, verbose=1, shuffle=True, validation_data=(test_data, test_labels_one_hot))"
   ]
  },
  {
   "cell_type": "code",
   "execution_count": 247,
   "metadata": {},
   "outputs": [
    {
     "data": {
      "image/png": "[encoded data removed]",
      "text/plain": [
       "<Figure size 432x288 with 1 Axes>"
      ]
     },
     "metadata": {
      "needs_background": "light"
     },
     "output_type": "display_data"
    }
   ],
   "source": [
    "from matplotlib import pyplot as plt\n",
    "# plotted the test and train accurancy\n",
    "plt.plot(history.history['accuracy'])\n",
    "plt.plot(history.history['val_accuracy'])\n",
    "plt.title('Relu Model Training Accuracy')\n",
    "plt.ylabel('accuracy')\n",
    "plt.xlabel('epoch')\n",
    "plt.legend(['train','test'], loc='upper left')\n",
    "plt.show()"
   ]
  },
  {
   "cell_type": "code",
   "execution_count": 250,
   "metadata": {},
   "outputs": [
    {
     "data": {
      "image/png": "[encoded data removed]",
      "text/plain": [
       "<Figure size 432x288 with 1 Axes>"
      ]
     },
     "metadata": {
      "needs_background": "light"
     },
     "output_type": "display_data"
    }
   ],
   "source": [
    "from matplotlib import pyplot as plt\n",
    "# plotted the tanh test and train accurancy\n",
    "plt.plot(tanhhistory.history['accuracy'])\n",
    "plt.plot(tanhhistory.history['val_accuracy'])\n",
    "plt.title('Tanh Model Training vs Test Accuracy')\n",
    "plt.ylabel('accuracy')\n",
    "plt.xlabel('epoch')\n",
    "plt.legend(['train','test'], loc='upper left')\n",
    "plt.show()"
   ]
  },
  {
   "cell_type": "code",
   "execution_count": 251,
   "metadata": {},
   "outputs": [
    {
     "data": {
      "image/png": "[encoded data removed]",
      "text/plain": [
       "<Figure size 432x288 with 1 Axes>"
      ]
     },
     "metadata": {
      "needs_background": "light"
     },
     "output_type": "display_data"
    }
   ],
   "source": [
    "from matplotlib import pyplot as plt\n",
    "# plotted the Relu model test and train accurancy\n",
    "plt.plot(history.history['loss'])\n",
    "plt.plot(history.history['val_loss'])\n",
    "plt.title('Relu Model Training Vs Test Loss')\n",
    "plt.ylabel('accuracy')\n",
    "plt.xlabel('epoch')\n",
    "plt.legend(['train','test'], loc='upper left')\n",
    "plt.show()"
   ]
  },
  {
   "cell_type": "code",
   "execution_count": 252,
   "metadata": {},
   "outputs": [
    {
     "data": {
      "image/png": "[encoded data removed]",
      "text/plain": [
       "<Figure size 432x288 with 1 Axes>"
      ]
     },
     "metadata": {
      "needs_background": "light"
     },
     "output_type": "display_data"
    }
   ],
   "source": [
    "from matplotlib import pyplot as plt\n",
    "# plotted the test and train accurancy\n",
    "plt.plot(tanhhistory.history['loss'])\n",
    "plt.plot(tanhhistory.history['val_loss'])\n",
    "plt.title('Tanh Model Training vs Testing Loss')\n",
    "plt.ylabel('accuracy')\n",
    "plt.xlabel('epoch')\n",
    "plt.legend(['train','test'], loc='upper left')\n",
    "plt.show()"
   ]
  },
  {
   "cell_type": "markdown",
   "metadata": {},
   "source": [
    "## Question - 3 - without scaling"
   ]
  },
  {
   "cell_type": "code",
   "execution_count": 253,
   "metadata": {},
   "outputs": [
    {
     "name": "stdout",
     "output_type": "stream",
     "text": [
      "Epoch 1/10\n",
      "235/235 [==============================] - 3s 12ms/step - loss: 0.1063 - accuracy: 0.9678 - val_loss: 0.1997 - val_accuracy: 0.9391\n",
      "Epoch 2/10\n",
      "235/235 [==============================] - 3s 11ms/step - loss: 0.1443 - accuracy: 0.9530 - val_loss: 0.1585 - val_accuracy: 0.9523\n",
      "Epoch 3/10\n",
      "235/235 [==============================] - 3s 11ms/step - loss: 0.1166 - accuracy: 0.9623 - val_loss: 0.1367 - val_accuracy: 0.9588\n",
      "Epoch 4/10\n",
      "235/235 [==============================] - 3s 12ms/step - loss: 0.1032 - accuracy: 0.9661 - val_loss: 0.1357 - val_accuracy: 0.9567\n",
      "Epoch 5/10\n",
      "235/235 [==============================] - 3s 12ms/step - loss: 0.0875 - accuracy: 0.9705 - val_loss: 0.1253 - val_accuracy: 0.9602\n",
      "Epoch 6/10\n",
      "235/235 [==============================] - 3s 14ms/step - loss: 0.0870 - accuracy: 0.9713 - val_loss: 0.1293 - val_accuracy: 0.9586\n",
      "Epoch 7/10\n",
      "235/235 [==============================] - 3s 14ms/step - loss: 0.0843 - accuracy: 0.9723 - val_loss: 0.1236 - val_accuracy: 0.9628\n",
      "Epoch 8/10\n",
      "235/235 [==============================] - 3s 14ms/step - loss: 0.0739 - accuracy: 0.9746 - val_loss: 0.1136 - val_accuracy: 0.9651\n",
      "Epoch 9/10\n",
      "235/235 [==============================] - 3s 14ms/step - loss: 0.0763 - accuracy: 0.9742 - val_loss: 0.1284 - val_accuracy: 0.9598\n",
      "Epoch 10/10\n",
      "235/235 [==============================] - 3s 14ms/step - loss: 0.0716 - accuracy: 0.9761 - val_loss: 0.0970 - val_accuracy: 0.9686\n"
     ]
    }
   ],
   "source": [
    "# taken the non scaled tanh model\n",
    "tanhhistorynonscaled = tanhmodel.fit(train_data_nonscaled, train_labels_one_hot, batch_size=256,epochs=10, verbose=1, shuffle=True, validation_data=(test_data_nonscaled, test_labels_one_hot))"
   ]
  },
  {
   "cell_type": "code",
   "execution_count": 254,
   "metadata": {},
   "outputs": [
    {
     "name": "stdout",
     "output_type": "stream",
     "text": [
      "Epoch 1/10\n",
      "235/235 [==============================] - 0s 1ms/step - loss: 18.4488 - accuracy: 0.9495 - val_loss: 18.0154 - val_accuracy: 0.9469\n",
      "Epoch 2/10\n",
      "235/235 [==============================] - 0s 1ms/step - loss: 9.7537 - accuracy: 0.9590 - val_loss: 15.0423 - val_accuracy: 0.9492\n",
      "Epoch 3/10\n",
      "235/235 [==============================] - 0s 1ms/step - loss: 7.4244 - accuracy: 0.9608 - val_loss: 14.0758 - val_accuracy: 0.9449\n",
      "Epoch 4/10\n",
      "235/235 [==============================] - 0s 1ms/step - loss: 6.1820 - accuracy: 0.9623 - val_loss: 12.5322 - val_accuracy: 0.9457\n",
      "Epoch 5/10\n",
      "235/235 [==============================] - 0s 1ms/step - loss: 5.3127 - accuracy: 0.9623 - val_loss: 11.3508 - val_accuracy: 0.9470\n",
      "Epoch 6/10\n",
      "235/235 [==============================] - 0s 1ms/step - loss: 4.6470 - accuracy: 0.9645 - val_loss: 10.2061 - val_accuracy: 0.9475\n",
      "Epoch 7/10\n",
      "235/235 [==============================] - 0s 1ms/step - loss: 4.0127 - accuracy: 0.9651 - val_loss: 9.9307 - val_accuracy: 0.9469\n",
      "Epoch 8/10\n",
      "235/235 [==============================] - 0s 1ms/step - loss: 3.6037 - accuracy: 0.9655 - val_loss: 9.3313 - val_accuracy: 0.9448\n",
      "Epoch 9/10\n",
      "235/235 [==============================] - 0s 1ms/step - loss: 3.3671 - accuracy: 0.9654 - val_loss: 8.7184 - val_accuracy: 0.9478\n",
      "Epoch 10/10\n",
      "235/235 [==============================] - 0s 1ms/step - loss: 3.0177 - accuracy: 0.9660 - val_loss: 8.5781 - val_accuracy: 0.9469\n"
     ]
    }
   ],
   "source": [
    "# fit and evalutaed the relu model with training and testing data with batch size 256\n",
    "Reluhistory = model.fit(train_data_nonscaled, train_labels_one_hot, batch_size=256,epochs=10, verbose=1, shuffle=True, validation_data=(test_data_nonscaled, test_labels_one_hot))"
   ]
  },
  {
   "cell_type": "code",
   "execution_count": 255,
   "metadata": {},
   "outputs": [
    {
     "name": "stdout",
     "output_type": "stream",
     "text": [
      "max =  255.0\n",
      "min =  0.0\n"
     ]
    }
   ],
   "source": [
    "print(\"max = \", np.amax(train_data_nonscaled))\n",
    "print(\"min = \", np.amin(train_data_nonscaled))"
   ]
  },
  {
   "cell_type": "code",
   "execution_count": 256,
   "metadata": {},
   "outputs": [
    {
     "name": "stdout",
     "output_type": "stream",
     "text": [
      "Model: \"mnist_model\"\n",
      "_________________________________________________________________\n",
      "Layer (type)                 Output Shape              Param #   \n",
      "=================================================================\n",
      "input_10 (InputLayer)        [(None, 784)]             0         \n",
      "_________________________________________________________________\n",
      "dense_76 (Dense)             (None, 512)               401920    \n",
      "_________________________________________________________________\n",
      "dense_77 (Dense)             (None, 512)               262656    \n",
      "_________________________________________________________________\n",
      "dense_78 (Dense)             (None, 10)                5130      \n",
      "=================================================================\n",
      "Total params: 669,706\n",
      "Trainable params: 669,706\n",
      "Non-trainable params: 0\n",
      "_________________________________________________________________\n"
     ]
    }
   ],
   "source": [
    "# created a new functional API model from scratch\n",
    "from tensorflow import keras\n",
    "from tensorflow.keras import layers\n",
    "inputs = keras.Input(shape=(dimData,))\n",
    "dense = layers.Dense(512, activation=\"relu\")\n",
    "x = dense(inputs)\n",
    "x = layers.Dense(512, activation=\"relu\")(x)\n",
    "outputs = layers.Dense(10, activation='softmax')(x)\n",
    "modelfunctional = keras.Model(inputs=inputs, outputs=outputs, name=\"mnist_model\")\n",
    "modelfunctional.summary()"
   ]
  },
  {
   "cell_type": "code",
   "execution_count": 257,
   "metadata": {},
   "outputs": [],
   "source": [
    "modelfunctional.compile(optimizer='adam', loss='categorical_crossentropy', metrics=['accuracy'])"
   ]
  },
  {
   "cell_type": "code",
   "execution_count": 258,
   "metadata": {},
   "outputs": [
    {
     "name": "stdout",
     "output_type": "stream",
     "text": [
      "Epoch 1/10\n",
      "235/235 [==============================] - 2s 8ms/step - loss: 0.2656 - accuracy: 0.9248 - val_loss: 0.1215 - val_accuracy: 0.9614\n",
      "Epoch 2/10\n",
      "235/235 [==============================] - 2s 8ms/step - loss: 0.0926 - accuracy: 0.9719 - val_loss: 0.0910 - val_accuracy: 0.9720\n",
      "Epoch 3/10\n",
      "235/235 [==============================] - 2s 9ms/step - loss: 0.0567 - accuracy: 0.9826 - val_loss: 0.0751 - val_accuracy: 0.9769\n",
      "Epoch 4/10\n",
      "235/235 [==============================] - 2s 10ms/step - loss: 0.0364 - accuracy: 0.9883 - val_loss: 0.0798 - val_accuracy: 0.9764\n",
      "Epoch 5/10\n",
      "235/235 [==============================] - 2s 9ms/step - loss: 0.0289 - accuracy: 0.9908 - val_loss: 0.0661 - val_accuracy: 0.9793\n",
      "Epoch 6/10\n",
      "235/235 [==============================] - 2s 9ms/step - loss: 0.0207 - accuracy: 0.9933 - val_loss: 0.0726 - val_accuracy: 0.9785\n",
      "Epoch 7/10\n",
      "235/235 [==============================] - 2s 9ms/step - loss: 0.0153 - accuracy: 0.9951 - val_loss: 0.0731 - val_accuracy: 0.9807\n",
      "Epoch 8/10\n",
      "235/235 [==============================] - 2s 9ms/step - loss: 0.0143 - accuracy: 0.9952 - val_loss: 0.0708 - val_accuracy: 0.9813\n",
      "Epoch 9/10\n",
      "235/235 [==============================] - 2s 9ms/step - loss: 0.0110 - accuracy: 0.9964 - val_loss: 0.0985 - val_accuracy: 0.9755\n",
      "Epoch 10/10\n",
      "235/235 [==============================] - 2s 9ms/step - loss: 0.0113 - accuracy: 0.9962 - val_loss: 0.0891 - val_accuracy: 0.9799\n"
     ]
    }
   ],
   "source": [
    "# fit and evalutaed the model with training and testing data with batch size 256\n",
    "history = modelfunctional.fit(train_data, train_labels_one_hot, batch_size=256, epochs=10, validation_data=(test_data, test_labels_one_hot))"
   ]
  },
  {
   "cell_type": "markdown",
   "metadata": {},
   "source": [
    "## Another Approach for functional API conversion"
   ]
  },
  {
   "cell_type": "code",
   "execution_count": 259,
   "metadata": {},
   "outputs": [],
   "source": [
    "from keras import layers, models\n",
    "# we have taken the previous tanh model and iterated each layer and converted to sequential model\n",
    "input_layer = layers.Input(batch_shape=tanhmodel.layers[0].input_shape)\n",
    "prev_layer = input_layer\n",
    "for layer in tanhmodel.layers:\n",
    "    prev_layer = layer(prev_layer)\n",
    "\n",
    "funcmodel = models.Model([input_layer], [prev_layer])"
   ]
  },
  {
   "cell_type": "code",
   "execution_count": 260,
   "metadata": {},
   "outputs": [],
   "source": [
    "# compiled the above sequential model\n",
    "funcmodel.compile(optimizer='adam', loss='categorical_crossentropy', metrics=['accuracy'])"
   ]
  },
  {
   "cell_type": "code",
   "execution_count": 261,
   "metadata": {},
   "outputs": [
    {
     "name": "stdout",
     "output_type": "stream",
     "text": [
      "Epoch 1/10\n",
      "235/235 [==============================] - 3s 14ms/step - loss: 0.0360 - accuracy: 0.9879 - val_loss: 0.0738 - val_accuracy: 0.9775\n",
      "Epoch 2/10\n",
      "235/235 [==============================] - 3s 14ms/step - loss: 0.0150 - accuracy: 0.9950 - val_loss: 0.0696 - val_accuracy: 0.9800\n",
      "Epoch 3/10\n",
      "235/235 [==============================] - 3s 14ms/step - loss: 0.0072 - accuracy: 0.9982 - val_loss: 0.0657 - val_accuracy: 0.9820\n",
      "Epoch 4/10\n",
      "235/235 [==============================] - 3s 14ms/step - loss: 0.0052 - accuracy: 0.9987 - val_loss: 0.0706 - val_accuracy: 0.9811\n",
      "Epoch 5/10\n",
      "235/235 [==============================] - 3s 14ms/step - loss: 0.0046 - accuracy: 0.9989 - val_loss: 0.0688 - val_accuracy: 0.9815\n",
      "Epoch 6/10\n",
      "235/235 [==============================] - 3s 13ms/step - loss: 0.0054 - accuracy: 0.9985 - val_loss: 0.0726 - val_accuracy: 0.9803\n",
      "Epoch 7/10\n",
      "235/235 [==============================] - 3s 13ms/step - loss: 0.0106 - accuracy: 0.9965 - val_loss: 0.0848 - val_accuracy: 0.9775\n",
      "Epoch 8/10\n",
      "235/235 [==============================] - 3s 13ms/step - loss: 0.0143 - accuracy: 0.9955 - val_loss: 0.0823 - val_accuracy: 0.9776\n",
      "Epoch 9/10\n",
      "235/235 [==============================] - 3s 13ms/step - loss: 0.0063 - accuracy: 0.9982 - val_loss: 0.0825 - val_accuracy: 0.9796\n",
      "Epoch 10/10\n",
      "235/235 [==============================] - 3s 14ms/step - loss: 0.0038 - accuracy: 0.9989 - val_loss: 0.0804 - val_accuracy: 0.9808\n"
     ]
    }
   ],
   "source": [
    "# fit and evalutaed the model with training and testing data with batch size 256\n",
    "historyfunc = funcmodel.fit(train_data, train_labels_one_hot, batch_size=256, epochs=10, validation_data=(test_data, test_labels_one_hot))"
   ]
  },
  {
   "cell_type": "code",
   "execution_count": 262,
   "metadata": {},
   "outputs": [
    {
     "name": "stdout",
     "output_type": "stream",
     "text": [
      "313/313 - 0s - loss: 0.5931 - accuracy: 0.8822\n",
      "Test loss: 0.5931286215782166\n",
      "Test accuracy: 0.8822000026702881\n"
     ]
    }
   ],
   "source": [
    "test_scores = model.evaluate(test_data, test_labels_one_hot, verbose=2)\n",
    "print(\"Test loss:\", test_scores[0])\n",
    "print(\"Test accuracy:\", test_scores[1])"
   ]
  },
  {
   "cell_type": "markdown",
   "metadata": {},
   "source": [
    "## predicting the data"
   ]
  },
  {
   "cell_type": "code",
   "execution_count": 263,
   "metadata": {},
   "outputs": [
    {
     "data": {
      "text/plain": [
       "<matplotlib.image.AxesImage at 0x1aa499ef220>"
      ]
     },
     "execution_count": 263,
     "metadata": {},
     "output_type": "execute_result"
    },
    {
     "data": {
      "image/png": "[encoded data removed]",
      "text/plain": [
       "<Figure size 432x288 with 1 Axes>"
      ]
     },
     "metadata": {
      "needs_background": "light"
     },
     "output_type": "display_data"
    }
   ],
   "source": [
    "plt.imshow(test_images[150])"
   ]
  },
  {
   "cell_type": "code",
   "execution_count": 271,
   "metadata": {},
   "outputs": [
    {
     "name": "stdout",
     "output_type": "stream",
     "text": [
      "Class:  [0. 0. 0. 0. 0. 0. 0. 0. 0. 1.]\n",
      "Predicted digit: 9\n"
     ]
    }
   ],
   "source": [
    "model.save(\"mnistmodel.h5\")\n",
    "img = test_images[150]\n",
    "test_img = img.reshape((1,784))\n",
    "# using the sequential model predicted the class number it belongs to\n",
    "img_class = model.predict(test_img)\n",
    "prediction = img_class[0]\n",
    "classname = img_class[0]\n",
    "print(\"Class: \",classname)\n",
    "print(\"Predicted digit:\",img_class.argmax())"
   ]
  },
  {
   "cell_type": "markdown",
   "metadata": {},
   "source": [
    "## Bonus Points"
   ]
  },
  {
   "cell_type": "code",
   "execution_count": 272,
   "metadata": {},
   "outputs": [
    {
     "name": "stdout",
     "output_type": "stream",
     "text": [
      "Model: \"sequential_20\"\n",
      "_________________________________________________________________\n",
      "Layer (type)                 Output Shape              Param #   \n",
      "=================================================================\n",
      "dense_85 (Dense)             (None, 16)                12560     \n",
      "_________________________________________________________________\n",
      "dense_86 (Dense)             (None, 32)                544       \n",
      "_________________________________________________________________\n",
      "dense_87 (Dense)             (None, 10)                330       \n",
      "=================================================================\n",
      "Total params: 13,434\n",
      "Trainable params: 13,434\n",
      "Non-trainable params: 0\n",
      "_________________________________________________________________\n",
      "Epoch 1/11\n",
      "235/235 [==============================] - 1s 3ms/step - loss: 0.7881 - accuracy: 0.7659 - val_loss: 0.3164 - val_accuracy: 0.9132\n",
      "Epoch 2/11\n",
      "235/235 [==============================] - 0s 2ms/step - loss: 0.2861 - accuracy: 0.9186 - val_loss: 0.2511 - val_accuracy: 0.9302\n",
      "Epoch 3/11\n",
      "235/235 [==============================] - 0s 2ms/step - loss: 0.2389 - accuracy: 0.9309 - val_loss: 0.2256 - val_accuracy: 0.9341\n",
      "Epoch 4/11\n",
      "235/235 [==============================] - 1s 2ms/step - loss: 0.2151 - accuracy: 0.9377 - val_loss: 0.2106 - val_accuracy: 0.9399\n",
      "Epoch 5/11\n",
      "235/235 [==============================] - 1s 3ms/step - loss: 0.1987 - accuracy: 0.9427 - val_loss: 0.1965 - val_accuracy: 0.9434\n",
      "Epoch 6/11\n",
      "235/235 [==============================] - 0s 2ms/step - loss: 0.1880 - accuracy: 0.9453 - val_loss: 0.1898 - val_accuracy: 0.9457\n",
      "Epoch 7/11\n",
      "235/235 [==============================] - 0s 2ms/step - loss: 0.1783 - accuracy: 0.9478 - val_loss: 0.1881 - val_accuracy: 0.9442\n",
      "Epoch 8/11\n",
      "235/235 [==============================] - 0s 2ms/step - loss: 0.1690 - accuracy: 0.9506 - val_loss: 0.1787 - val_accuracy: 0.9485\n",
      "Epoch 9/11\n",
      "235/235 [==============================] - 1s 3ms/step - loss: 0.1625 - accuracy: 0.9517 - val_loss: 0.1756 - val_accuracy: 0.9491\n",
      "Epoch 10/11\n",
      "235/235 [==============================] - 0s 2ms/step - loss: 0.1560 - accuracy: 0.9538 - val_loss: 0.1695 - val_accuracy: 0.9515\n",
      "Epoch 11/11\n",
      "235/235 [==============================] - 1s 2ms/step - loss: 0.1493 - accuracy: 0.9561 - val_loss: 0.1696 - val_accuracy: 0.9498\n"
     ]
    }
   ],
   "source": [
    "modelsparc = Sequential()\n",
    "modelsparc.add(Dense(16, activation='relu', input_shape=(dimData,)))\n",
    "modelsparc.add(Dense(32, activation='relu'))\n",
    "modelsparc.add(Dense(10, activation='softmax'))\n",
    "modelsparc.summary()\n",
    "modelsparc.compile(optimizer='adam', loss= 'sparse_categorical_crossentropy', metrics=['accuracy'])\n",
    "# fit and evalutaed the model with training and testing data with batch size 256\n",
    "# also removed the one hot encoding because we are using sparse_categorical_crossentropy\n",
    "historysparc = modelsparc.fit(train_data, train_labels, batch_size=256,epochs=11, verbose=1, shuffle=True, validation_data=(test_data, test_labels))\n"
   ]
  },
  {
   "cell_type": "code",
   "execution_count": 274,
   "metadata": {},
   "outputs": [
    {
     "name": "stdout",
     "output_type": "stream",
     "text": [
      "Epoch 1/11\n"
     ]
    },
    {
     "ename": "ValueError",
     "evalue": "in user code:\n\n    c:\\users\\eduku\\appdata\\local\\programs\\python\\python39\\lib\\site-packages\\keras\\engine\\training.py:853 train_function  *\n        return step_function(self, iterator)\n    c:\\users\\eduku\\appdata\\local\\programs\\python\\python39\\lib\\site-packages\\keras\\engine\\training.py:842 step_function  **\n        outputs = model.distribute_strategy.run(run_step, args=(data,))\n    c:\\users\\eduku\\appdata\\local\\programs\\python\\python39\\lib\\site-packages\\tensorflow\\python\\distribute\\distribute_lib.py:1286 run\n        return self._extended.call_for_each_replica(fn, args=args, kwargs=kwargs)\n    c:\\users\\eduku\\appdata\\local\\programs\\python\\python39\\lib\\site-packages\\tensorflow\\python\\distribute\\distribute_lib.py:2849 call_for_each_replica\n        return self._call_for_each_replica(fn, args, kwargs)\n    c:\\users\\eduku\\appdata\\local\\programs\\python\\python39\\lib\\site-packages\\tensorflow\\python\\distribute\\distribute_lib.py:3632 _call_for_each_replica\n        return fn(*args, **kwargs)\n    c:\\users\\eduku\\appdata\\local\\programs\\python\\python39\\lib\\site-packages\\keras\\engine\\training.py:835 run_step  **\n        outputs = model.train_step(data)\n    c:\\users\\eduku\\appdata\\local\\programs\\python\\python39\\lib\\site-packages\\keras\\engine\\training.py:792 train_step\n        self.compiled_metrics.update_state(y, y_pred, sample_weight)\n    c:\\users\\eduku\\appdata\\local\\programs\\python\\python39\\lib\\site-packages\\keras\\engine\\compile_utils.py:457 update_state\n        metric_obj.update_state(y_t, y_p, sample_weight=mask)\n    c:\\users\\eduku\\appdata\\local\\programs\\python\\python39\\lib\\site-packages\\keras\\utils\\metrics_utils.py:73 decorated\n        update_op = update_state_fn(*args, **kwargs)\n    c:\\users\\eduku\\appdata\\local\\programs\\python\\python39\\lib\\site-packages\\keras\\metrics.py:177 update_state_fn\n        return ag_update_state(*args, **kwargs)\n    c:\\users\\eduku\\appdata\\local\\programs\\python\\python39\\lib\\site-packages\\keras\\metrics.py:681 update_state  **\n        matches = ag_fn(y_true, y_pred, **self._fn_kwargs)\n    c:\\users\\eduku\\appdata\\local\\programs\\python\\python39\\lib\\site-packages\\tensorflow\\python\\util\\dispatch.py:206 wrapper\n        return target(*args, **kwargs)\n    c:\\users\\eduku\\appdata\\local\\programs\\python\\python39\\lib\\site-packages\\keras\\metrics.py:3529 sparse_categorical_accuracy\n        y_true = tf.squeeze(y_true, [-1])\n    c:\\users\\eduku\\appdata\\local\\programs\\python\\python39\\lib\\site-packages\\tensorflow\\python\\util\\dispatch.py:206 wrapper\n        return target(*args, **kwargs)\n    c:\\users\\eduku\\appdata\\local\\programs\\python\\python39\\lib\\site-packages\\tensorflow\\python\\ops\\array_ops.py:4537 squeeze_v2\n        return squeeze(input, axis, name)\n    c:\\users\\eduku\\appdata\\local\\programs\\python\\python39\\lib\\site-packages\\tensorflow\\python\\util\\dispatch.py:206 wrapper\n        return target(*args, **kwargs)\n    c:\\users\\eduku\\appdata\\local\\programs\\python\\python39\\lib\\site-packages\\tensorflow\\python\\util\\deprecation.py:549 new_func\n        return func(*args, **kwargs)\n    c:\\users\\eduku\\appdata\\local\\programs\\python\\python39\\lib\\site-packages\\tensorflow\\python\\ops\\array_ops.py:4485 squeeze\n        return gen_array_ops.squeeze(input, axis, name)\n    c:\\users\\eduku\\appdata\\local\\programs\\python\\python39\\lib\\site-packages\\tensorflow\\python\\ops\\gen_array_ops.py:10197 squeeze\n        _, _, _op, _outputs = _op_def_library._apply_op_helper(\n    c:\\users\\eduku\\appdata\\local\\programs\\python\\python39\\lib\\site-packages\\tensorflow\\python\\framework\\op_def_library.py:748 _apply_op_helper\n        op = g._create_op_internal(op_type_name, inputs, dtypes=None,\n    c:\\users\\eduku\\appdata\\local\\programs\\python\\python39\\lib\\site-packages\\tensorflow\\python\\framework\\func_graph.py:599 _create_op_internal\n        return super(FuncGraph, self)._create_op_internal(  # pylint: disable=protected-access\n    c:\\users\\eduku\\appdata\\local\\programs\\python\\python39\\lib\\site-packages\\tensorflow\\python\\framework\\ops.py:3561 _create_op_internal\n        ret = Operation(\n    c:\\users\\eduku\\appdata\\local\\programs\\python\\python39\\lib\\site-packages\\tensorflow\\python\\framework\\ops.py:2041 __init__\n        self._c_op = _create_c_op(self._graph, node_def, inputs,\n    c:\\users\\eduku\\appdata\\local\\programs\\python\\python39\\lib\\site-packages\\tensorflow\\python\\framework\\ops.py:1883 _create_c_op\n        raise ValueError(str(e))\n\n    ValueError: Can not squeeze dim[1], expected a dimension of 1, got 10 for '{{node Squeeze}} = Squeeze[T=DT_FLOAT, squeeze_dims=[-1]](IteratorGetNext:1)' with input shapes: [?,10].\n",
     "output_type": "error",
     "traceback": [
      "\u001b[1;31m---------------------------------------------------------------------------\u001b[0m",
      "\u001b[1;31mValueError\u001b[0m                                Traceback (most recent call last)",
      "\u001b[1;32m~\\AppData\\Local\\Temp/ipykernel_40536/663368519.py\u001b[0m in \u001b[0;36m<module>\u001b[1;34m\u001b[0m\n\u001b[1;32m----> 1\u001b[1;33m \u001b[0mhistorysparc\u001b[0m \u001b[1;33m=\u001b[0m \u001b[0mmodelsparc\u001b[0m\u001b[1;33m.\u001b[0m\u001b[0mfit\u001b[0m\u001b[1;33m(\u001b[0m\u001b[0mtrain_data\u001b[0m\u001b[1;33m,\u001b[0m \u001b[0mtrain_labels_one_hot\u001b[0m\u001b[1;33m,\u001b[0m \u001b[0mbatch_size\u001b[0m\u001b[1;33m=\u001b[0m\u001b[1;36m256\u001b[0m\u001b[1;33m,\u001b[0m\u001b[0mepochs\u001b[0m\u001b[1;33m=\u001b[0m\u001b[1;36m11\u001b[0m\u001b[1;33m,\u001b[0m \u001b[0mverbose\u001b[0m\u001b[1;33m=\u001b[0m\u001b[1;36m1\u001b[0m\u001b[1;33m,\u001b[0m \u001b[0mshuffle\u001b[0m\u001b[1;33m=\u001b[0m\u001b[1;32mTrue\u001b[0m\u001b[1;33m,\u001b[0m \u001b[0mvalidation_data\u001b[0m\u001b[1;33m=\u001b[0m\u001b[1;33m(\u001b[0m\u001b[0mtest_data\u001b[0m\u001b[1;33m,\u001b[0m \u001b[0mtest_labels\u001b[0m\u001b[1;33m)\u001b[0m\u001b[1;33m)\u001b[0m\u001b[1;33m\u001b[0m\u001b[1;33m\u001b[0m\u001b[0m\n\u001b[0m",
      "\u001b[1;32mc:\\users\\eduku\\appdata\\local\\programs\\python\\python39\\lib\\site-packages\\keras\\engine\\training.py\u001b[0m in \u001b[0;36mfit\u001b[1;34m(self, x, y, batch_size, epochs, verbose, callbacks, validation_split, validation_data, shuffle, class_weight, sample_weight, initial_epoch, steps_per_epoch, validation_steps, validation_batch_size, validation_freq, max_queue_size, workers, use_multiprocessing)\u001b[0m\n\u001b[0;32m   1182\u001b[0m                 _r=1):\n\u001b[0;32m   1183\u001b[0m               \u001b[0mcallbacks\u001b[0m\u001b[1;33m.\u001b[0m\u001b[0mon_train_batch_begin\u001b[0m\u001b[1;33m(\u001b[0m\u001b[0mstep\u001b[0m\u001b[1;33m)\u001b[0m\u001b[1;33m\u001b[0m\u001b[1;33m\u001b[0m\u001b[0m\n\u001b[1;32m-> 1184\u001b[1;33m               \u001b[0mtmp_logs\u001b[0m \u001b[1;33m=\u001b[0m \u001b[0mself\u001b[0m\u001b[1;33m.\u001b[0m\u001b[0mtrain_function\u001b[0m\u001b[1;33m(\u001b[0m\u001b[0miterator\u001b[0m\u001b[1;33m)\u001b[0m\u001b[1;33m\u001b[0m\u001b[1;33m\u001b[0m\u001b[0m\n\u001b[0m\u001b[0;32m   1185\u001b[0m               \u001b[1;32mif\u001b[0m \u001b[0mdata_handler\u001b[0m\u001b[1;33m.\u001b[0m\u001b[0mshould_sync\u001b[0m\u001b[1;33m:\u001b[0m\u001b[1;33m\u001b[0m\u001b[1;33m\u001b[0m\u001b[0m\n\u001b[0;32m   1186\u001b[0m                 \u001b[0mcontext\u001b[0m\u001b[1;33m.\u001b[0m\u001b[0masync_wait\u001b[0m\u001b[1;33m(\u001b[0m\u001b[1;33m)\u001b[0m\u001b[1;33m\u001b[0m\u001b[1;33m\u001b[0m\u001b[0m\n",
      "\u001b[1;32mc:\\users\\eduku\\appdata\\local\\programs\\python\\python39\\lib\\site-packages\\tensorflow\\python\\eager\\def_function.py\u001b[0m in \u001b[0;36m__call__\u001b[1;34m(self, *args, **kwds)\u001b[0m\n\u001b[0;32m    883\u001b[0m \u001b[1;33m\u001b[0m\u001b[0m\n\u001b[0;32m    884\u001b[0m       \u001b[1;32mwith\u001b[0m \u001b[0mOptionalXlaContext\u001b[0m\u001b[1;33m(\u001b[0m\u001b[0mself\u001b[0m\u001b[1;33m.\u001b[0m\u001b[0m_jit_compile\u001b[0m\u001b[1;33m)\u001b[0m\u001b[1;33m:\u001b[0m\u001b[1;33m\u001b[0m\u001b[1;33m\u001b[0m\u001b[0m\n\u001b[1;32m--> 885\u001b[1;33m         \u001b[0mresult\u001b[0m \u001b[1;33m=\u001b[0m \u001b[0mself\u001b[0m\u001b[1;33m.\u001b[0m\u001b[0m_call\u001b[0m\u001b[1;33m(\u001b[0m\u001b[1;33m*\u001b[0m\u001b[0margs\u001b[0m\u001b[1;33m,\u001b[0m \u001b[1;33m**\u001b[0m\u001b[0mkwds\u001b[0m\u001b[1;33m)\u001b[0m\u001b[1;33m\u001b[0m\u001b[1;33m\u001b[0m\u001b[0m\n\u001b[0m\u001b[0;32m    886\u001b[0m \u001b[1;33m\u001b[0m\u001b[0m\n\u001b[0;32m    887\u001b[0m       \u001b[0mnew_tracing_count\u001b[0m \u001b[1;33m=\u001b[0m \u001b[0mself\u001b[0m\u001b[1;33m.\u001b[0m\u001b[0mexperimental_get_tracing_count\u001b[0m\u001b[1;33m(\u001b[0m\u001b[1;33m)\u001b[0m\u001b[1;33m\u001b[0m\u001b[1;33m\u001b[0m\u001b[0m\n",
      "\u001b[1;32mc:\\users\\eduku\\appdata\\local\\programs\\python\\python39\\lib\\site-packages\\tensorflow\\python\\eager\\def_function.py\u001b[0m in \u001b[0;36m_call\u001b[1;34m(self, *args, **kwds)\u001b[0m\n\u001b[0;32m    915\u001b[0m       \u001b[1;31m# In this case we have created variables on the first call, so we run the\u001b[0m\u001b[1;33m\u001b[0m\u001b[1;33m\u001b[0m\u001b[0m\n\u001b[0;32m    916\u001b[0m       \u001b[1;31m# defunned version which is guaranteed to never create variables.\u001b[0m\u001b[1;33m\u001b[0m\u001b[1;33m\u001b[0m\u001b[0m\n\u001b[1;32m--> 917\u001b[1;33m       \u001b[1;32mreturn\u001b[0m \u001b[0mself\u001b[0m\u001b[1;33m.\u001b[0m\u001b[0m_stateless_fn\u001b[0m\u001b[1;33m(\u001b[0m\u001b[1;33m*\u001b[0m\u001b[0margs\u001b[0m\u001b[1;33m,\u001b[0m \u001b[1;33m**\u001b[0m\u001b[0mkwds\u001b[0m\u001b[1;33m)\u001b[0m  \u001b[1;31m# pylint: disable=not-callable\u001b[0m\u001b[1;33m\u001b[0m\u001b[1;33m\u001b[0m\u001b[0m\n\u001b[0m\u001b[0;32m    918\u001b[0m     \u001b[1;32melif\u001b[0m \u001b[0mself\u001b[0m\u001b[1;33m.\u001b[0m\u001b[0m_stateful_fn\u001b[0m \u001b[1;32mis\u001b[0m \u001b[1;32mnot\u001b[0m \u001b[1;32mNone\u001b[0m\u001b[1;33m:\u001b[0m\u001b[1;33m\u001b[0m\u001b[1;33m\u001b[0m\u001b[0m\n\u001b[0;32m    919\u001b[0m       \u001b[1;31m# Release the lock early so that multiple threads can perform the call\u001b[0m\u001b[1;33m\u001b[0m\u001b[1;33m\u001b[0m\u001b[0m\n",
      "\u001b[1;32mc:\\users\\eduku\\appdata\\local\\programs\\python\\python39\\lib\\site-packages\\tensorflow\\python\\eager\\function.py\u001b[0m in \u001b[0;36m__call__\u001b[1;34m(self, *args, **kwargs)\u001b[0m\n\u001b[0;32m   3036\u001b[0m     \u001b[1;32mwith\u001b[0m \u001b[0mself\u001b[0m\u001b[1;33m.\u001b[0m\u001b[0m_lock\u001b[0m\u001b[1;33m:\u001b[0m\u001b[1;33m\u001b[0m\u001b[1;33m\u001b[0m\u001b[0m\n\u001b[0;32m   3037\u001b[0m       (graph_function,\n\u001b[1;32m-> 3038\u001b[1;33m        filtered_flat_args) = self._maybe_define_function(args, kwargs)\n\u001b[0m\u001b[0;32m   3039\u001b[0m     return graph_function._call_flat(\n\u001b[0;32m   3040\u001b[0m         filtered_flat_args, captured_inputs=graph_function.captured_inputs)  # pylint: disable=protected-access\n",
      "\u001b[1;32mc:\\users\\eduku\\appdata\\local\\programs\\python\\python39\\lib\\site-packages\\tensorflow\\python\\eager\\function.py\u001b[0m in \u001b[0;36m_maybe_define_function\u001b[1;34m(self, args, kwargs)\u001b[0m\n\u001b[0;32m   3457\u001b[0m               \u001b[0mself\u001b[0m\u001b[1;33m.\u001b[0m\u001b[0minput_signature\u001b[0m \u001b[1;32mis\u001b[0m \u001b[1;32mNone\u001b[0m \u001b[1;32mand\u001b[0m\u001b[1;33m\u001b[0m\u001b[1;33m\u001b[0m\u001b[0m\n\u001b[0;32m   3458\u001b[0m               call_context_key in self._function_cache.missed):\n\u001b[1;32m-> 3459\u001b[1;33m             return self._define_function_with_shape_relaxation(\n\u001b[0m\u001b[0;32m   3460\u001b[0m                 args, kwargs, flat_args, filtered_flat_args, cache_key_context)\n\u001b[0;32m   3461\u001b[0m \u001b[1;33m\u001b[0m\u001b[0m\n",
      "\u001b[1;32mc:\\users\\eduku\\appdata\\local\\programs\\python\\python39\\lib\\site-packages\\tensorflow\\python\\eager\\function.py\u001b[0m in \u001b[0;36m_define_function_with_shape_relaxation\u001b[1;34m(self, args, kwargs, flat_args, filtered_flat_args, cache_key_context)\u001b[0m\n\u001b[0;32m   3379\u001b[0m           expand_composites=True)\n\u001b[0;32m   3380\u001b[0m \u001b[1;33m\u001b[0m\u001b[0m\n\u001b[1;32m-> 3381\u001b[1;33m     graph_function = self._create_graph_function(\n\u001b[0m\u001b[0;32m   3382\u001b[0m         args, kwargs, override_flat_arg_shapes=relaxed_arg_shapes)\n\u001b[0;32m   3383\u001b[0m     \u001b[0mself\u001b[0m\u001b[1;33m.\u001b[0m\u001b[0m_function_cache\u001b[0m\u001b[1;33m.\u001b[0m\u001b[0marg_relaxed\u001b[0m\u001b[1;33m[\u001b[0m\u001b[0mrank_only_cache_key\u001b[0m\u001b[1;33m]\u001b[0m \u001b[1;33m=\u001b[0m \u001b[0mgraph_function\u001b[0m\u001b[1;33m\u001b[0m\u001b[1;33m\u001b[0m\u001b[0m\n",
      "\u001b[1;32mc:\\users\\eduku\\appdata\\local\\programs\\python\\python39\\lib\\site-packages\\tensorflow\\python\\eager\\function.py\u001b[0m in \u001b[0;36m_create_graph_function\u001b[1;34m(self, args, kwargs, override_flat_arg_shapes)\u001b[0m\n\u001b[0;32m   3296\u001b[0m     \u001b[0marg_names\u001b[0m \u001b[1;33m=\u001b[0m \u001b[0mbase_arg_names\u001b[0m \u001b[1;33m+\u001b[0m \u001b[0mmissing_arg_names\u001b[0m\u001b[1;33m\u001b[0m\u001b[1;33m\u001b[0m\u001b[0m\n\u001b[0;32m   3297\u001b[0m     graph_function = ConcreteFunction(\n\u001b[1;32m-> 3298\u001b[1;33m         func_graph_module.func_graph_from_py_func(\n\u001b[0m\u001b[0;32m   3299\u001b[0m             \u001b[0mself\u001b[0m\u001b[1;33m.\u001b[0m\u001b[0m_name\u001b[0m\u001b[1;33m,\u001b[0m\u001b[1;33m\u001b[0m\u001b[1;33m\u001b[0m\u001b[0m\n\u001b[0;32m   3300\u001b[0m             \u001b[0mself\u001b[0m\u001b[1;33m.\u001b[0m\u001b[0m_python_function\u001b[0m\u001b[1;33m,\u001b[0m\u001b[1;33m\u001b[0m\u001b[1;33m\u001b[0m\u001b[0m\n",
      "\u001b[1;32mc:\\users\\eduku\\appdata\\local\\programs\\python\\python39\\lib\\site-packages\\tensorflow\\python\\framework\\func_graph.py\u001b[0m in \u001b[0;36mfunc_graph_from_py_func\u001b[1;34m(name, python_func, args, kwargs, signature, func_graph, autograph, autograph_options, add_control_dependencies, arg_names, op_return_value, collections, capture_by_value, override_flat_arg_shapes, acd_record_initial_resource_uses)\u001b[0m\n\u001b[0;32m   1005\u001b[0m         \u001b[0m_\u001b[0m\u001b[1;33m,\u001b[0m \u001b[0moriginal_func\u001b[0m \u001b[1;33m=\u001b[0m \u001b[0mtf_decorator\u001b[0m\u001b[1;33m.\u001b[0m\u001b[0munwrap\u001b[0m\u001b[1;33m(\u001b[0m\u001b[0mpython_func\u001b[0m\u001b[1;33m)\u001b[0m\u001b[1;33m\u001b[0m\u001b[1;33m\u001b[0m\u001b[0m\n\u001b[0;32m   1006\u001b[0m \u001b[1;33m\u001b[0m\u001b[0m\n\u001b[1;32m-> 1007\u001b[1;33m       \u001b[0mfunc_outputs\u001b[0m \u001b[1;33m=\u001b[0m \u001b[0mpython_func\u001b[0m\u001b[1;33m(\u001b[0m\u001b[1;33m*\u001b[0m\u001b[0mfunc_args\u001b[0m\u001b[1;33m,\u001b[0m \u001b[1;33m**\u001b[0m\u001b[0mfunc_kwargs\u001b[0m\u001b[1;33m)\u001b[0m\u001b[1;33m\u001b[0m\u001b[1;33m\u001b[0m\u001b[0m\n\u001b[0m\u001b[0;32m   1008\u001b[0m \u001b[1;33m\u001b[0m\u001b[0m\n\u001b[0;32m   1009\u001b[0m       \u001b[1;31m# invariant: `func_outputs` contains only Tensors, CompositeTensors,\u001b[0m\u001b[1;33m\u001b[0m\u001b[1;33m\u001b[0m\u001b[0m\n",
      "\u001b[1;32mc:\\users\\eduku\\appdata\\local\\programs\\python\\python39\\lib\\site-packages\\tensorflow\\python\\eager\\def_function.py\u001b[0m in \u001b[0;36mwrapped_fn\u001b[1;34m(*args, **kwds)\u001b[0m\n\u001b[0;32m    666\u001b[0m         \u001b[1;31m# the function a weak reference to itself to avoid a reference cycle.\u001b[0m\u001b[1;33m\u001b[0m\u001b[1;33m\u001b[0m\u001b[0m\n\u001b[0;32m    667\u001b[0m         \u001b[1;32mwith\u001b[0m \u001b[0mOptionalXlaContext\u001b[0m\u001b[1;33m(\u001b[0m\u001b[0mcompile_with_xla\u001b[0m\u001b[1;33m)\u001b[0m\u001b[1;33m:\u001b[0m\u001b[1;33m\u001b[0m\u001b[1;33m\u001b[0m\u001b[0m\n\u001b[1;32m--> 668\u001b[1;33m           \u001b[0mout\u001b[0m \u001b[1;33m=\u001b[0m \u001b[0mweak_wrapped_fn\u001b[0m\u001b[1;33m(\u001b[0m\u001b[1;33m)\u001b[0m\u001b[1;33m.\u001b[0m\u001b[0m__wrapped__\u001b[0m\u001b[1;33m(\u001b[0m\u001b[1;33m*\u001b[0m\u001b[0margs\u001b[0m\u001b[1;33m,\u001b[0m \u001b[1;33m**\u001b[0m\u001b[0mkwds\u001b[0m\u001b[1;33m)\u001b[0m\u001b[1;33m\u001b[0m\u001b[1;33m\u001b[0m\u001b[0m\n\u001b[0m\u001b[0;32m    669\u001b[0m         \u001b[1;32mreturn\u001b[0m \u001b[0mout\u001b[0m\u001b[1;33m\u001b[0m\u001b[1;33m\u001b[0m\u001b[0m\n\u001b[0;32m    670\u001b[0m \u001b[1;33m\u001b[0m\u001b[0m\n",
      "\u001b[1;32mc:\\users\\eduku\\appdata\\local\\programs\\python\\python39\\lib\\site-packages\\tensorflow\\python\\framework\\func_graph.py\u001b[0m in \u001b[0;36mwrapper\u001b[1;34m(*args, **kwargs)\u001b[0m\n\u001b[0;32m    992\u001b[0m           \u001b[1;32mexcept\u001b[0m \u001b[0mException\u001b[0m \u001b[1;32mas\u001b[0m \u001b[0me\u001b[0m\u001b[1;33m:\u001b[0m  \u001b[1;31m# pylint:disable=broad-except\u001b[0m\u001b[1;33m\u001b[0m\u001b[1;33m\u001b[0m\u001b[0m\n\u001b[0;32m    993\u001b[0m             \u001b[1;32mif\u001b[0m \u001b[0mhasattr\u001b[0m\u001b[1;33m(\u001b[0m\u001b[0me\u001b[0m\u001b[1;33m,\u001b[0m \u001b[1;34m\"ag_error_metadata\"\u001b[0m\u001b[1;33m)\u001b[0m\u001b[1;33m:\u001b[0m\u001b[1;33m\u001b[0m\u001b[1;33m\u001b[0m\u001b[0m\n\u001b[1;32m--> 994\u001b[1;33m               \u001b[1;32mraise\u001b[0m \u001b[0me\u001b[0m\u001b[1;33m.\u001b[0m\u001b[0mag_error_metadata\u001b[0m\u001b[1;33m.\u001b[0m\u001b[0mto_exception\u001b[0m\u001b[1;33m(\u001b[0m\u001b[0me\u001b[0m\u001b[1;33m)\u001b[0m\u001b[1;33m\u001b[0m\u001b[1;33m\u001b[0m\u001b[0m\n\u001b[0m\u001b[0;32m    995\u001b[0m             \u001b[1;32melse\u001b[0m\u001b[1;33m:\u001b[0m\u001b[1;33m\u001b[0m\u001b[1;33m\u001b[0m\u001b[0m\n\u001b[0;32m    996\u001b[0m               \u001b[1;32mraise\u001b[0m\u001b[1;33m\u001b[0m\u001b[1;33m\u001b[0m\u001b[0m\n",
      "\u001b[1;31mValueError\u001b[0m: in user code:\n\n    c:\\users\\eduku\\appdata\\local\\programs\\python\\python39\\lib\\site-packages\\keras\\engine\\training.py:853 train_function  *\n        return step_function(self, iterator)\n    c:\\users\\eduku\\appdata\\local\\programs\\python\\python39\\lib\\site-packages\\keras\\engine\\training.py:842 step_function  **\n        outputs = model.distribute_strategy.run(run_step, args=(data,))\n    c:\\users\\eduku\\appdata\\local\\programs\\python\\python39\\lib\\site-packages\\tensorflow\\python\\distribute\\distribute_lib.py:1286 run\n        return self._extended.call_for_each_replica(fn, args=args, kwargs=kwargs)\n    c:\\users\\eduku\\appdata\\local\\programs\\python\\python39\\lib\\site-packages\\tensorflow\\python\\distribute\\distribute_lib.py:2849 call_for_each_replica\n        return self._call_for_each_replica(fn, args, kwargs)\n    c:\\users\\eduku\\appdata\\local\\programs\\python\\python39\\lib\\site-packages\\tensorflow\\python\\distribute\\distribute_lib.py:3632 _call_for_each_replica\n        return fn(*args, **kwargs)\n    c:\\users\\eduku\\appdata\\local\\programs\\python\\python39\\lib\\site-packages\\keras\\engine\\training.py:835 run_step  **\n        outputs = model.train_step(data)\n    c:\\users\\eduku\\appdata\\local\\programs\\python\\python39\\lib\\site-packages\\keras\\engine\\training.py:792 train_step\n        self.compiled_metrics.update_state(y, y_pred, sample_weight)\n    c:\\users\\eduku\\appdata\\local\\programs\\python\\python39\\lib\\site-packages\\keras\\engine\\compile_utils.py:457 update_state\n        metric_obj.update_state(y_t, y_p, sample_weight=mask)\n    c:\\users\\eduku\\appdata\\local\\programs\\python\\python39\\lib\\site-packages\\keras\\utils\\metrics_utils.py:73 decorated\n        update_op = update_state_fn(*args, **kwargs)\n    c:\\users\\eduku\\appdata\\local\\programs\\python\\python39\\lib\\site-packages\\keras\\metrics.py:177 update_state_fn\n        return ag_update_state(*args, **kwargs)\n    c:\\users\\eduku\\appdata\\local\\programs\\python\\python39\\lib\\site-packages\\keras\\metrics.py:681 update_state  **\n        matches = ag_fn(y_true, y_pred, **self._fn_kwargs)\n    c:\\users\\eduku\\appdata\\local\\programs\\python\\python39\\lib\\site-packages\\tensorflow\\python\\util\\dispatch.py:206 wrapper\n        return target(*args, **kwargs)\n    c:\\users\\eduku\\appdata\\local\\programs\\python\\python39\\lib\\site-packages\\keras\\metrics.py:3529 sparse_categorical_accuracy\n        y_true = tf.squeeze(y_true, [-1])\n    c:\\users\\eduku\\appdata\\local\\programs\\python\\python39\\lib\\site-packages\\tensorflow\\python\\util\\dispatch.py:206 wrapper\n        return target(*args, **kwargs)\n    c:\\users\\eduku\\appdata\\local\\programs\\python\\python39\\lib\\site-packages\\tensorflow\\python\\ops\\array_ops.py:4537 squeeze_v2\n        return squeeze(input, axis, name)\n    c:\\users\\eduku\\appdata\\local\\programs\\python\\python39\\lib\\site-packages\\tensorflow\\python\\util\\dispatch.py:206 wrapper\n        return target(*args, **kwargs)\n    c:\\users\\eduku\\appdata\\local\\programs\\python\\python39\\lib\\site-packages\\tensorflow\\python\\util\\deprecation.py:549 new_func\n        return func(*args, **kwargs)\n    c:\\users\\eduku\\appdata\\local\\programs\\python\\python39\\lib\\site-packages\\tensorflow\\python\\ops\\array_ops.py:4485 squeeze\n        return gen_array_ops.squeeze(input, axis, name)\n    c:\\users\\eduku\\appdata\\local\\programs\\python\\python39\\lib\\site-packages\\tensorflow\\python\\ops\\gen_array_ops.py:10197 squeeze\n        _, _, _op, _outputs = _op_def_library._apply_op_helper(\n    c:\\users\\eduku\\appdata\\local\\programs\\python\\python39\\lib\\site-packages\\tensorflow\\python\\framework\\op_def_library.py:748 _apply_op_helper\n        op = g._create_op_internal(op_type_name, inputs, dtypes=None,\n    c:\\users\\eduku\\appdata\\local\\programs\\python\\python39\\lib\\site-packages\\tensorflow\\python\\framework\\func_graph.py:599 _create_op_internal\n        return super(FuncGraph, self)._create_op_internal(  # pylint: disable=protected-access\n    c:\\users\\eduku\\appdata\\local\\programs\\python\\python39\\lib\\site-packages\\tensorflow\\python\\framework\\ops.py:3561 _create_op_internal\n        ret = Operation(\n    c:\\users\\eduku\\appdata\\local\\programs\\python\\python39\\lib\\site-packages\\tensorflow\\python\\framework\\ops.py:2041 __init__\n        self._c_op = _create_c_op(self._graph, node_def, inputs,\n    c:\\users\\eduku\\appdata\\local\\programs\\python\\python39\\lib\\site-packages\\tensorflow\\python\\framework\\ops.py:1883 _create_c_op\n        raise ValueError(str(e))\n\n    ValueError: Can not squeeze dim[1], expected a dimension of 1, got 10 for '{{node Squeeze}} = Squeeze[T=DT_FLOAT, squeeze_dims=[-1]](IteratorGetNext:1)' with input shapes: [?,10].\n"
     ]
    }
   ],
   "source": [
    "historysparc = modelsparc.fit(train_data, train_labels_one_hot, batch_size=256,epochs=11, verbose=1, shuffle=True, validation_data=(test_data, test_labels))"
   ]
  },
  {
   "cell_type": "code",
   "execution_count": 269,
   "metadata": {},
   "outputs": [
    {
     "data": {
      "text/plain": [
       "<matplotlib.image.AxesImage at 0x1aa8cede7f0>"
      ]
     },
     "execution_count": 269,
     "metadata": {},
     "output_type": "execute_result"
    },
    {
     "data": {
      "image/png": "[encoded data removed]",
      "text/plain": [
       "<Figure size 432x288 with 1 Axes>"
      ]
     },
     "metadata": {
      "needs_background": "light"
     },
     "output_type": "display_data"
    }
   ],
   "source": [
    "plt.imshow(test_images[151])"
   ]
  },
  {
   "cell_type": "code",
   "execution_count": 275,
   "metadata": {},
   "outputs": [
    {
     "name": "stdout",
     "output_type": "stream",
     "text": [
      "WARNING:tensorflow:5 out of the last 12 calls to <function Model.make_predict_function.<locals>.predict_function at 0x000001AA8CEBB3A0> triggered tf.function retracing. Tracing is expensive and the excessive number of tracings could be due to (1) creating @tf.function repeatedly in a loop, (2) passing tensors with different shapes, (3) passing Python objects instead of tensors. For (1), please define your @tf.function outside of the loop. For (2), @tf.function has experimental_relax_shapes=True option that relaxes argument shapes that can avoid unnecessary retracing. For (3), please refer to https://www.tensorflow.org/guide/function#controlling_retracing and https://www.tensorflow.org/api_docs/python/tf/function for  more details.\n",
      "prediction:  [0. 0. 0. 0. 0. 0. 0. 0. 0. 1.]\n",
      "Class:  [0. 0. 0. 0. 0. 0. 0. 0. 0. 1.]\n",
      "Predicted digit: 9\n"
     ]
    }
   ],
   "source": [
    "img = test_images[151]\n",
    "test_img = img.reshape((1,784))\n",
    "img_class = modelsparc.predict(test_img)\n",
    "prediction = img_class[0]\n",
    "classname = img_class[0]\n",
    "print(\"prediction: \",prediction)\n",
    "print(\"Class: \",classname)\n",
    "# used the numpy to predict the class\n",
    "print(\"Predicted digit:\",np.argmax(img_class))"
   ]
  }
 ],
 "metadata": {
  "accelerator": "GPU",
  "colab": {
   "collapsed_sections": [],
   "name": "imageclassification.ipynb",
   "provenance": []
  },
  "kernelspec": {
   "display_name": "Python 3 (ipykernel)",
   "language": "python",
   "name": "python3"
  },
  "language_info": {
   "codemirror_mode": {
    "name": "ipython",
    "version": 3
   },
   "file_extension": ".py",
   "mimetype": "text/x-python",
   "name": "python",
   "nbconvert_exporter": "python",
   "pygments_lexer": "ipython3",
   "version": "3.9.7"
  }
 },
 "nbformat": 4,
 "nbformat_minor": 1
}
